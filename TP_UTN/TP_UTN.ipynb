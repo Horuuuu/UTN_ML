{
 "cells": [
  {
   "cell_type": "markdown",
   "id": "28011901",
   "metadata": {},
   "source": [
    "### 1) \n",
    "<h4>Construya 2 datasets, uno con los datos originales y otro con los datos\n",
    " correctamente escalados y/o normalizados. Divida ambos datasets en conjuntos\n",
    "de entrenamiento y de validación</h4>"
   ]
  },
  {
   "cell_type": "code",
   "execution_count": null,
   "id": "31a248a3",
   "metadata": {},
   "outputs": [],
   "source": [
    "from sklearn.datasets import load_wine\n",
    "wine_data = load_wine()"
   ]
  },
  {
   "cell_type": "code",
   "execution_count": null,
   "id": "43a6ddec",
   "metadata": {},
   "outputs": [],
   "source": [
    "print(wine_data.data.shape)"
   ]
  },
  {
   "cell_type": "code",
   "execution_count": null,
   "id": "c323bd6e",
   "metadata": {},
   "outputs": [],
   "source": [
    "print(wine_data.feature_names)"
   ]
  },
  {
   "cell_type": "markdown",
   "id": "e4056b82",
   "metadata": {},
   "source": [
    "Separé las características de los datos y las etiquetas de clase:"
   ]
  },
  {
   "cell_type": "code",
   "execution_count": null,
   "id": "7df6cf18",
   "metadata": {},
   "outputs": [],
   "source": [
    "features = wine_data.data\n",
    "labels = wine_data.target"
   ]
  },
  {
   "cell_type": "markdown",
   "id": "1fbc5d41",
   "metadata": {},
   "source": [
    "Importé la clase StandardScaler del módulo sklearn.preprocessing y crea un objeto StandardScaler:"
   ]
  },
  {
   "cell_type": "code",
   "execution_count": null,
   "id": "5896560e",
   "metadata": {},
   "outputs": [],
   "source": [
    "from sklearn.preprocessing import StandardScaler\n",
    "scaler = StandardScaler()"
   ]
  },
  {
   "cell_type": "markdown",
   "id": "f107fd60",
   "metadata": {},
   "source": [
    "Ajusta el objeto StandardScaler al conjunto de características y usa para transformar las características:"
   ]
  },
  {
   "cell_type": "code",
   "execution_count": null,
   "id": "d36dca3c",
   "metadata": {},
   "outputs": [],
   "source": [
    "scaler.fit(features)\n",
    "scaled_features = scaler.transform(features)"
   ]
  },
  {
   "cell_type": "markdown",
   "id": "988b8ba8",
   "metadata": {},
   "source": [
    "Importé la función train_test_split del módulo sklearn.model_selection y dividi tanto el conjunto de características original como el conjunto de características escaladas en conjuntos de entrenamiento y validación:"
   ]
  },
  {
   "cell_type": "code",
   "execution_count": null,
   "id": "0c98d961",
   "metadata": {},
   "outputs": [],
   "source": [
    "from sklearn.model_selection import train_test_split\n",
    "X_train, X_val, y_train, y_val = train_test_split(features, labels, test_size=0.2, random_state=42)\n",
    "X_train_scaled, X_val_scaled, y_train_scaled, y_val_scaled = train_test_split(scaled_features, labels, test_size=0.2, random_state=42)\n"
   ]
  },
  {
   "cell_type": "code",
   "execution_count": null,
   "id": "467f30d8",
   "metadata": {},
   "outputs": [],
   "source": [
    "print(X_train)\n",
    "print(y_train)"
   ]
  },
  {
   "cell_type": "markdown",
   "id": "df1fec8c",
   "metadata": {},
   "source": [
    "# 2)\n",
    "<h4>Elija un valor de K y aplique el algoritmo de KNN en ambos datasets. Evalúe la\n",
    "precisión en ambos casos.</h4>"
   ]
  },
  {
   "cell_type": "markdown",
   "id": "087fd51a",
   "metadata": {},
   "source": [
    "Importé la clase KNeighborsClassifier del módulo sklearn.neighbors:"
   ]
  },
  {
   "cell_type": "code",
   "execution_count": null,
   "id": "576f357b",
   "metadata": {},
   "outputs": [],
   "source": [
    "from sklearn.neighbors import KNeighborsClassifier"
   ]
  },
  {
   "cell_type": "markdown",
   "id": "919078fb",
   "metadata": {},
   "source": [
    "Crea un objeto KNeighborsClassifier y especifica el valor de K que quiero utilizar:"
   ]
  },
  {
   "cell_type": "code",
   "execution_count": null,
   "id": "8d861056",
   "metadata": {},
   "outputs": [],
   "source": [
    "knn = KNeighborsClassifier(n_neighbors=3)"
   ]
  },
  {
   "cell_type": "markdown",
   "id": "216abe7d",
   "metadata": {},
   "source": [
    "Ajusta el modelo KNN al conjunto de entrenamiento y usarlo para hacer predicciones en el conjunto de validación:"
   ]
  },
  {
   "cell_type": "code",
   "execution_count": null,
   "id": "b7e0a83f",
   "metadata": {},
   "outputs": [],
   "source": [
    "X = X_train\n",
    "y = y_train\n",
    "knn.fit(X, y)\n",
    "y_pred = knn.predict(X_val)"
   ]
  },
  {
   "cell_type": "markdown",
   "id": "b890a3f6",
   "metadata": {},
   "source": [
    "Para evaluar la precisión del modelo,  importé la función accuracy_score del módulo sklearn.metrics y calcula la precisión de las predicciones:"
   ]
  },
  {
   "cell_type": "code",
   "execution_count": null,
   "id": "cba66aae",
   "metadata": {},
   "outputs": [],
   "source": [
    "from sklearn.metrics import accuracy_score\n",
    "accuracy = accuracy_score(y_val, y_pred)"
   ]
  },
  {
   "cell_type": "code",
   "execution_count": null,
   "id": "fa1968cc",
   "metadata": {},
   "outputs": [],
   "source": [
    "print(y_val)"
   ]
  },
  {
   "cell_type": "code",
   "execution_count": null,
   "id": "effe85d8",
   "metadata": {},
   "outputs": [],
   "source": [
    "print(accuracy)"
   ]
  },
  {
   "cell_type": "markdown",
   "id": "75a2a1af",
   "metadata": {},
   "source": [
    "Lo mismo para el conjunto de datos escalado:"
   ]
  },
  {
   "cell_type": "code",
   "execution_count": null,
   "id": "d6d8bdbb",
   "metadata": {},
   "outputs": [],
   "source": [
    "knn.fit(X_train_scaled, y_train_scaled)\n",
    "y_pred_scaled = knn.predict(X_val_scaled)\n",
    "accuracy_scaled = accuracy_score(y_val_scaled, y_pred_scaled)"
   ]
  },
  {
   "cell_type": "code",
   "execution_count": null,
   "id": "7bdd80ff",
   "metadata": {},
   "outputs": [],
   "source": [
    "\n",
    "print(f'Accuracy with original data: {accuracy:.2f}')\n",
    "print(f'Accuracy with scaled data: {accuracy_scaled:.2f}')\n"
   ]
  },
  {
   "cell_type": "markdown",
   "id": "6c6bcbd3",
   "metadata": {},
   "source": [
    "# 3)\n",
    "<h4>Elija un valor de max_depth y aplique el algoritmo de Árboles de Decisión en\n",
    "ambos datasets. Evalúe la precisión en ambos casos.</h4>"
   ]
  },
  {
   "cell_type": "markdown",
   "id": "adb02f15",
   "metadata": {},
   "source": [
    "Importé la clase DecisionTreeClassifier del módulo sklearn.tree y crea un objeto DecisionTreeClassifier:"
   ]
  },
  {
   "cell_type": "code",
   "execution_count": null,
   "id": "afdf81a8",
   "metadata": {
    "scrolled": false
   },
   "outputs": [],
   "source": [
    "from sklearn.tree import DecisionTreeClassifier"
   ]
  },
  {
   "cell_type": "markdown",
   "id": "036ddd01",
   "metadata": {},
   "source": [
    "Ajusté el modelo de árbol de decisión al conjunto de entrenamiento y hace predicciones en el conjunto de validación:"
   ]
  },
  {
   "cell_type": "code",
   "execution_count": null,
   "id": "89c871e7",
   "metadata": {},
   "outputs": [],
   "source": [
    "dt = DecisionTreeClassifier(max_depth=3)\n",
    "dt.fit(X_train, y_train)"
   ]
  },
  {
   "cell_type": "code",
   "execution_count": null,
   "id": "aa271ab5",
   "metadata": {},
   "outputs": [],
   "source": [
    "y_pred = dt.predict(X_val)"
   ]
  },
  {
   "cell_type": "markdown",
   "id": "b0c3173a",
   "metadata": {},
   "source": [
    "Evalué la precisión del modelo utilizando la función accuracy_score del módulo sklearn.metrics:"
   ]
  },
  {
   "cell_type": "code",
   "execution_count": null,
   "id": "258556c8",
   "metadata": {},
   "outputs": [],
   "source": [
    "from sklearn.metrics import accuracy_score\n",
    "accuracy = accuracy_score(y_val, y_pred)"
   ]
  },
  {
   "cell_type": "markdown",
   "id": "bf6ac0c6",
   "metadata": {},
   "source": [
    "Repeti con el conjunto de características escaladas:"
   ]
  },
  {
   "cell_type": "code",
   "execution_count": null,
   "id": "037bb34d",
   "metadata": {},
   "outputs": [],
   "source": [
    "dt.fit(X_train_scaled, y_train_scaled)\n",
    "y_pred_scaled = dt.predict(X_val_scaled)\n",
    "accuracy_scaled = accuracy_score(y_val_scaled, y_pred_scaled)"
   ]
  },
  {
   "cell_type": "markdown",
   "id": "dce1576b",
   "metadata": {},
   "source": [
    "# 4)\n",
    "<h4>Tome los datos escalados y/o normalizados, reduzca la dimensión del problema\n",
    "a 2 utilizando PCA y grafique el conjunto resultante.</h4>"
   ]
  },
  {
   "cell_type": "markdown",
   "id": "d2b30e9f",
   "metadata": {},
   "source": [
    "Importé la clase PCA del módulo sklearn.decomposition y crea un objeto PCA:"
   ]
  },
  {
   "cell_type": "code",
   "execution_count": null,
   "id": "523cb39a",
   "metadata": {},
   "outputs": [],
   "source": [
    "from sklearn.decomposition import PCA\n",
    "pca = PCA(n_components=2)"
   ]
  },
  {
   "cell_type": "markdown",
   "id": "1eef97bd",
   "metadata": {},
   "source": [
    "Ajusté el objeto PCA al conjunto de características escaladas y lo usé para transformar el conjunto:"
   ]
  },
  {
   "cell_type": "code",
   "execution_count": null,
   "id": "0e3d1037",
   "metadata": {},
   "outputs": [],
   "source": [
    "scaled_features_pca = pca.fit_transform(scaled_features)"
   ]
  },
  {
   "cell_type": "markdown",
   "id": "737da689",
   "metadata": {},
   "source": [
    "Importé la función scatter del módulo matplotlib.pyplot y la usé para graficar el conjunto de características transformado:"
   ]
  },
  {
   "cell_type": "code",
   "execution_count": null,
   "id": "9df4fa96",
   "metadata": {},
   "outputs": [],
   "source": [
    "import matplotlib.pyplot as plt\n",
    "\n",
    "x = scaled_features_pca[:, 0]\n",
    "y = scaled_features_pca[:, 1]\n",
    "\n",
    "plt.scatter(x, y)\n",
    "plt.show()\n"
   ]
  },
  {
   "cell_type": "markdown",
   "id": "17fe30f1",
   "metadata": {},
   "source": [
    "# 5)\n",
    "<h4>Sin utilizar las etiquetas del dataset, elija un valor de K y aplique el algoritmo de\n",
    "KMeans sobre los datos transformados por PCA. Repita el procedimiento\n",
    "utilizando KMeans por mini-batches.</h4>"
   ]
  },
  {
   "cell_type": "code",
   "execution_count": null,
   "id": "fc59a237",
   "metadata": {},
   "outputs": [],
   "source": [
    "from sklearn.cluster import KMeans\n",
    "kmeans = KMeans(n_clusters=3)\n"
   ]
  },
  {
   "cell_type": "code",
   "execution_count": null,
   "id": "f1f8e936",
   "metadata": {},
   "outputs": [],
   "source": [
    "predictions = kmeans.fit_predict(scaled_features_pca)\n"
   ]
  },
  {
   "cell_type": "code",
   "execution_count": null,
   "id": "935dfffb",
   "metadata": {},
   "outputs": [],
   "source": [
    "from sklearn.cluster import MiniBatchKMeans\n",
    "\n",
    "mb_kmeans = MiniBatchKMeans(n_clusters=3, batch_size=1024)\n",
    "predictions_mb = mb_kmeans.fit_predict(scaled_features_pca)\n"
   ]
  },
  {
   "cell_type": "code",
   "execution_count": null,
   "id": "df4b4260",
   "metadata": {},
   "outputs": [],
   "source": [
    "plt.scatter(x, y, c=predictions_mb)\n",
    "plt.show()\n",
    "\n"
   ]
  },
  {
   "cell_type": "code",
   "execution_count": null,
   "id": "a3fe7770",
   "metadata": {},
   "outputs": [],
   "source": []
  },
  {
   "cell_type": "code",
   "execution_count": null,
   "id": "3b92607a",
   "metadata": {},
   "outputs": [],
   "source": []
  }
 ],
 "metadata": {
  "kernelspec": {
   "display_name": "Python 3 (ipykernel)",
   "language": "python",
   "name": "python3"
  },
  "language_info": {
   "codemirror_mode": {
    "name": "ipython",
    "version": 3
   },
   "file_extension": ".py",
   "mimetype": "text/x-python",
   "name": "python",
   "nbconvert_exporter": "python",
   "pygments_lexer": "ipython3",
   "version": "3.9.13"
  }
 },
 "nbformat": 4,
 "nbformat_minor": 5
}
